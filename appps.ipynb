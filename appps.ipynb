{
 "cells": [
  {
   "cell_type": "code",
   "execution_count": 1,
   "metadata": {},
   "outputs": [],
   "source": [
    "import speech_recognition as sr\n",
    "import moviepy.editor as mp\n",
    "from pydub import AudioSegment\n",
    "from pydub.utils import make_chunks\n",
    "import os"
   ]
  },
  {
   "cell_type": "code",
   "execution_count": 2,
   "metadata": {},
   "outputs": [
    {
     "name": "stdout",
     "output_type": "stream",
     "text": [
      "I am exporting ./chunked/testMp3.wav_0.wav\n",
      "I am exporting ./chunked/testMp3.wav_1.wav\n",
      "I am exporting ./chunked/testMp3.wav_2.wav\n",
      "I am exporting ./chunked/testMp3.wav_3.wav\n",
      "I am exporting ./chunked/testMp3.wav_4.wav\n",
      "I am exporting ./chunked/testMp3.wav_5.wav\n",
      "I am exporting ./chunked/testMp3.wav_6.wav\n",
      "I am exporting ./chunked/testMp3.wav_7.wav\n",
      "I don't recognize your audio\n"
     ]
    }
   ],
   "source": [
    "def process_audio(filename):\n",
    "    txtf = open(\"output.txt\", \"w+\")\n",
    "    myaudio = AudioSegment.from_wav(filename)\n",
    "    chunks_length_ms = 8000 \n",
    "    chunks = make_chunks(myaudio, chunks_length_ms)\n",
    "    for i, chunk in enumerate(chunks):\n",
    "        chunkName ='./chunked/'+filename+\"_{0}.wav\".format(i)\n",
    "        print(\"I am exporting\", chunkName)\n",
    "        chunk.export(chunkName, format=\"wav\")\n",
    "        file = chunkName\n",
    "        r = sr.Recognizer()\n",
    "        with sr.AudioFile(file) as source:\n",
    "            audio_listened = r.listen(source)       \n",
    "        try:\n",
    "            rec = r.recognize_google (audio_listened)\n",
    "            txtf.write(rec+\".\")\n",
    "        except sr.UnknownValueError:\n",
    "            print(\"I don't recognize your audio\")\n",
    "        except sr.RequestError as e:\n",
    "            print(\"could not get the result, check your internet\")\n",
    "\n",
    "try:\n",
    "    os.makedirs(\"chunked\")\n",
    "except:\n",
    "    pass\n",
    "    process_audio(\"testMp3.wav\")"
   ]
  }
 ],
 "metadata": {
  "kernelspec": {
   "display_name": "Python 3",
   "language": "python",
   "name": "python3"
  },
  "language_info": {
   "codemirror_mode": {
    "name": "ipython",
    "version": 3
   },
   "file_extension": ".py",
   "mimetype": "text/x-python",
   "name": "python",
   "nbconvert_exporter": "python",
   "pygments_lexer": "ipython3",
   "version": "3.11.5"
  }
 },
 "nbformat": 4,
 "nbformat_minor": 2
}
